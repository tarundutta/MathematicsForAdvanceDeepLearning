{
 "cells": [
  {
   "cell_type": "code",
   "execution_count": 1,
   "metadata": {},
   "outputs": [],
   "source": [
    "import pandas as pd\n",
    "import os\n",
    "os.chdir('F:/book/BPB Publication/MathematicsForAdvanceDeepLearning/')"
   ]
  },
  {
   "cell_type": "code",
   "execution_count": 2,
   "metadata": {},
   "outputs": [],
   "source": [
    "#reading the csv file\n",
    "df = pd.read_csv('loans.csv')"
   ]
  },
  {
   "cell_type": "code",
   "execution_count": 3,
   "metadata": {},
   "outputs": [
    {
     "data": {
      "text/html": [
       "<div>\n",
       "<style scoped>\n",
       "    .dataframe tbody tr th:only-of-type {\n",
       "        vertical-align: middle;\n",
       "    }\n",
       "\n",
       "    .dataframe tbody tr th {\n",
       "        vertical-align: top;\n",
       "    }\n",
       "\n",
       "    .dataframe thead th {\n",
       "        text-align: right;\n",
       "    }\n",
       "</style>\n",
       "<table border=\"1\" class=\"dataframe\">\n",
       "  <thead>\n",
       "    <tr style=\"text-align: right;\">\n",
       "      <th></th>\n",
       "      <th>Amount.Requested</th>\n",
       "      <th>Amount.Funded.By.Investors</th>\n",
       "      <th>Interest.Rate</th>\n",
       "      <th>Debt.To.Income.Ratio</th>\n",
       "      <th>Monthly.Income</th>\n",
       "      <th>Open.CREDIT.Lines</th>\n",
       "      <th>Revolving.CREDIT.Balance</th>\n",
       "    </tr>\n",
       "  </thead>\n",
       "  <tbody>\n",
       "    <tr>\n",
       "      <th>count</th>\n",
       "      <td>2500.000000</td>\n",
       "      <td>2500.000000</td>\n",
       "      <td>2500.000000</td>\n",
       "      <td>2500.000000</td>\n",
       "      <td>2500.000000</td>\n",
       "      <td>2500.000000</td>\n",
       "      <td>2500.000000</td>\n",
       "    </tr>\n",
       "    <tr>\n",
       "      <th>mean</th>\n",
       "      <td>12389.590000</td>\n",
       "      <td>11984.346044</td>\n",
       "      <td>0.130396</td>\n",
       "      <td>0.153752</td>\n",
       "      <td>5685.153348</td>\n",
       "      <td>10.060800</td>\n",
       "      <td>15225.668800</td>\n",
       "    </tr>\n",
       "    <tr>\n",
       "      <th>std</th>\n",
       "      <td>7814.420929</td>\n",
       "      <td>7743.480223</td>\n",
       "      <td>0.041301</td>\n",
       "      <td>0.075164</td>\n",
       "      <td>3963.376189</td>\n",
       "      <td>4.516687</td>\n",
       "      <td>18308.723678</td>\n",
       "    </tr>\n",
       "    <tr>\n",
       "      <th>min</th>\n",
       "      <td>1000.000000</td>\n",
       "      <td>200.000000</td>\n",
       "      <td>0.050000</td>\n",
       "      <td>0.000000</td>\n",
       "      <td>588.500000</td>\n",
       "      <td>2.000000</td>\n",
       "      <td>0.000000</td>\n",
       "    </tr>\n",
       "    <tr>\n",
       "      <th>25%</th>\n",
       "      <td>6000.000000</td>\n",
       "      <td>6000.000000</td>\n",
       "      <td>0.100000</td>\n",
       "      <td>0.100000</td>\n",
       "      <td>3474.267500</td>\n",
       "      <td>7.000000</td>\n",
       "      <td>5545.250000</td>\n",
       "    </tr>\n",
       "    <tr>\n",
       "      <th>50%</th>\n",
       "      <td>10000.000000</td>\n",
       "      <td>10000.000000</td>\n",
       "      <td>0.130000</td>\n",
       "      <td>0.150000</td>\n",
       "      <td>5000.000000</td>\n",
       "      <td>9.000000</td>\n",
       "      <td>10938.000000</td>\n",
       "    </tr>\n",
       "    <tr>\n",
       "      <th>75%</th>\n",
       "      <td>17000.000000</td>\n",
       "      <td>16000.000000</td>\n",
       "      <td>0.160000</td>\n",
       "      <td>0.210000</td>\n",
       "      <td>6800.000000</td>\n",
       "      <td>13.000000</td>\n",
       "      <td>18870.250000</td>\n",
       "    </tr>\n",
       "    <tr>\n",
       "      <th>max</th>\n",
       "      <td>35000.000000</td>\n",
       "      <td>35000.000000</td>\n",
       "      <td>0.250000</td>\n",
       "      <td>0.350000</td>\n",
       "      <td>102750.000000</td>\n",
       "      <td>38.000000</td>\n",
       "      <td>270800.000000</td>\n",
       "    </tr>\n",
       "  </tbody>\n",
       "</table>\n",
       "</div>"
      ],
      "text/plain": [
       "       Amount.Requested  Amount.Funded.By.Investors  Interest.Rate  \\\n",
       "count       2500.000000                 2500.000000    2500.000000   \n",
       "mean       12389.590000                11984.346044       0.130396   \n",
       "std         7814.420929                 7743.480223       0.041301   \n",
       "min         1000.000000                  200.000000       0.050000   \n",
       "25%         6000.000000                 6000.000000       0.100000   \n",
       "50%        10000.000000                10000.000000       0.130000   \n",
       "75%        17000.000000                16000.000000       0.160000   \n",
       "max        35000.000000                35000.000000       0.250000   \n",
       "\n",
       "       Debt.To.Income.Ratio  Monthly.Income  Open.CREDIT.Lines  \\\n",
       "count           2500.000000     2500.000000        2500.000000   \n",
       "mean               0.153752     5685.153348          10.060800   \n",
       "std                0.075164     3963.376189           4.516687   \n",
       "min                0.000000      588.500000           2.000000   \n",
       "25%                0.100000     3474.267500           7.000000   \n",
       "50%                0.150000     5000.000000           9.000000   \n",
       "75%                0.210000     6800.000000          13.000000   \n",
       "max                0.350000   102750.000000          38.000000   \n",
       "\n",
       "       Revolving.CREDIT.Balance  \n",
       "count               2500.000000  \n",
       "mean               15225.668800  \n",
       "std                18308.723678  \n",
       "min                    0.000000  \n",
       "25%                 5545.250000  \n",
       "50%                10938.000000  \n",
       "75%                18870.250000  \n",
       "max               270800.000000  "
      ]
     },
     "execution_count": 3,
     "metadata": {},
     "output_type": "execute_result"
    }
   ],
   "source": [
    "# Descriptive Statistics\n",
    "df.describe()"
   ]
  },
  {
   "cell_type": "code",
   "execution_count": 4,
   "metadata": {},
   "outputs": [
    {
     "data": {
      "text/plain": [
       "7814.420928749798"
      ]
     },
     "execution_count": 4,
     "metadata": {},
     "output_type": "execute_result"
    }
   ],
   "source": [
    "df['Amount.Requested'].std()"
   ]
  },
  {
   "cell_type": "code",
   "execution_count": 13,
   "metadata": {},
   "outputs": [
    {
     "data": {
      "image/png": "[encoded data removed]",
      "text/plain": [
       "<Figure size 432x288 with 1 Axes>"
      ]
     },
     "metadata": {
      "needs_background": "light"
     },
     "output_type": "display_data"
    }
   ],
   "source": [
    "#plot the histogram of Amount Requested Column\n",
    "import matplotlib.pyplot as plt\n",
    "import seaborn as sns\n",
    "plt.hist(df['Amount.Requested'], bins=25)\n",
    "plt.xlabel('Amount Requested')\n",
    "plt.ylabel('Frequency')\n",
    "plt.title('A Histogram Plot for Amount Requested Variable ')\n",
    "plt.show()"
   ]
  },
  {
   "cell_type": "code",
   "execution_count": null,
   "metadata": {},
   "outputs": [],
   "source": []
  },
  {
   "cell_type": "code",
   "execution_count": 34,
   "metadata": {},
   "outputs": [
    {
     "data": {
      "image/png": "[encoded data removed]",
      "text/plain": [
       "<Figure size 432x288 with 1 Axes>"
      ]
     },
     "metadata": {
      "needs_background": "light"
     },
     "output_type": "display_data"
    }
   ],
   "source": [
    "#plot the distribution\n",
    "import matplotlib.pyplot as plt\n",
    "import seaborn as sns\n",
    "#more than 28000 for Amount.Funded.By.Investors is outlier\n",
    "df_test = df[df['Amount.Funded.By.Investors']<=28000]\n",
    "sns.distplot(df_test['Amount.Funded.By.Investors'], kde= True, bins =10)\n",
    "plt.xlabel('Amount Funded By Investors')\n",
    "plt.ylabel('Kernel Density Estimation')\n",
    "plt.title('''A Distribution Plot for 'Amount.Funded.By.Investors' Variable''' )\n",
    "plt.show()"
   ]
  },
  {
   "cell_type": "code",
   "execution_count": 35,
   "metadata": {},
   "outputs": [
    {
     "data": {
      "image/png": "[encoded data removed]",
      "text/plain": [
       "<Figure size 432x288 with 1 Axes>"
      ]
     },
     "metadata": {
      "needs_background": "light"
     },
     "output_type": "display_data"
    }
   ],
   "source": [
    "#Boxplot \n",
    "import matplotlib.pyplot as plt\n",
    "import seaborn as sns\n",
    "#more than 28000 for Amount.Funded.By.Investors is outlier\n",
    "df_test = df[df['Amount.Funded.By.Investors']<=28000]\n",
    "sns.boxplot(df_test['Amount.Funded.By.Investors'])\n",
    "plt.title('''A Box Plot for 'Amount.Funded.By.Investors' Variable''' )\n",
    "plt.show()"
   ]
  },
  {
   "cell_type": "code",
   "execution_count": 44,
   "metadata": {},
   "outputs": [
    {
     "data": {
      "image/png": "[encoded data removed]",
      "text/plain": [
       "<Figure size 432x288 with 1 Axes>"
      ]
     },
     "metadata": {
      "needs_background": "light"
     },
     "output_type": "display_data"
    }
   ],
   "source": [
    "#Q-Q plot for Amount Funded By Investor Coloumn\n",
    "import statsmodels.api as sm \n",
    "import matplotlib.pyplot as plt\n",
    "sm.qqplot(df['Amount.Funded.By.Investors']) \n",
    "plt.title('''A Q-Q Plot for 'Amount.Funded.By.Investors' Variable''' )\n",
    "plt.show()"
   ]
  },
  {
   "cell_type": "code",
   "execution_count": null,
   "metadata": {},
   "outputs": [],
   "source": [
    "\n"
   ]
  },
  {
   "cell_type": "code",
   "execution_count": 62,
   "metadata": {},
   "outputs": [
    {
     "name": "stdout",
     "output_type": "stream",
     "text": [
      "KstestResult(statistic=0.12434484101927379, pvalue=3.7758944599242253e-34)\n"
     ]
    }
   ],
   "source": [
    "#To know whether the Amount.Funded.By.Investors column is normally distributed\n",
    "from scipy.stats import norm, kstest\n",
    "data=list(df['Amount.Funded.By.Investors']) \n",
    "loc, scale = norm.fit(data)\n",
    "# create a normal distribution with loc and scale\n",
    "n = norm(loc=loc, scale=scale)\n",
    "x = kstest(data, n.cdf)\n",
    "print(x) \n"
   ]
  },
  {
   "cell_type": "code",
   "execution_count": 64,
   "metadata": {},
   "outputs": [
    {
     "name": "stdout",
     "output_type": "stream",
     "text": [
      "AndersonResult(statistic=47.89578496210106, critical_values=array([0.575, 0.655, 0.786, 0.917, 1.09 ]), significance_level=array([15. , 10. ,  5. ,  2.5,  1. ]))\n"
     ]
    }
   ],
   "source": [
    "#Anderson Darling Test\n",
    "from scipy.stats import anderson\n",
    "data=list(df['Amount.Funded.By.Investors']) \n",
    "loc, scale = norm.fit(data)\n",
    "# create a normal distribution with loc and scale\n",
    "n = norm(loc=loc, scale=scale)\n",
    "x = anderson(data)\n",
    "print(x) "
   ]
  },
  {
   "cell_type": "code",
   "execution_count": 65,
   "metadata": {},
   "outputs": [
    {
     "data": {
      "text/plain": [
       "0.928552070425517"
      ]
     },
     "execution_count": 65,
     "metadata": {},
     "output_type": "execute_result"
    }
   ],
   "source": [
    "#calculate the skewness\n",
    "df['Amount.Funded.By.Investors'].skew()"
   ]
  },
  {
   "cell_type": "code",
   "execution_count": 66,
   "metadata": {},
   "outputs": [
    {
     "data": {
      "text/plain": [
       "0.4147409265527986"
      ]
     },
     "execution_count": 66,
     "metadata": {},
     "output_type": "execute_result"
    }
   ],
   "source": [
    "#Find kurtosis value\n",
    "df['Amount.Funded.By.Investors'].kurtosis()"
   ]
  },
  {
   "cell_type": "code",
   "execution_count": 21,
   "metadata": {},
   "outputs": [
    {
     "data": {
      "image/png": "[encoded data removed]",
      "text/plain": [
       "<Figure size 432x288 with 1 Axes>"
      ]
     },
     "metadata": {
      "needs_background": "light"
     },
     "output_type": "display_data"
    }
   ],
   "source": [
    "#plot the histogram of Amount Requested Column\n",
    "import matplotlib.pyplot as plt\n",
    "import seaborn as sns\n",
    "plt.hist(df['Interest.Rate'], bins=15)\n",
    "plt.xlabel('Interest.Rate')\n",
    "plt.ylabel('Frequency')\n",
    "plt.title('A Histogram Plot for Monthly Income Variable ')\n",
    "plt.show()"
   ]
  },
  {
   "cell_type": "code",
   "execution_count": null,
   "metadata": {},
   "outputs": [],
   "source": []
  }
 ],
 "metadata": {
  "kernelspec": {
   "display_name": "Python 3",
   "language": "python",
   "name": "python3"
  },
  "language_info": {
   "codemirror_mode": {
    "name": "ipython",
    "version": 3
   },
   "file_extension": ".py",
   "mimetype": "text/x-python",
   "name": "python",
   "nbconvert_exporter": "python",
   "pygments_lexer": "ipython3",
   "version": "3.7.3"
  }
 },
 "nbformat": 4,
 "nbformat_minor": 2
}
